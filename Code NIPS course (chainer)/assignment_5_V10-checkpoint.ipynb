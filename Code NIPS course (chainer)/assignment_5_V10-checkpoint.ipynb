{
 "cells": [
  {
   "cell_type": "code",
   "execution_count": 29,
   "metadata": {
    "colab_type": "text",
    "id": "q69LXWGjKTN8"
   },
   "outputs": [],
   "source": [
    "# Group number: 14\n",
    "# Veerle Schepers s1023102\n",
    "# Angeliki-Ilektra Karaiskou, s1029746\n",
    "# Lei Xiaoxuan, s1025681\n",
    "# Parsia Basimfar : s1022274"
   ]
  },
  {
   "cell_type": "code",
   "execution_count": 1,
   "metadata": {},
   "outputs": [],
   "source": [
    "import scipy\n",
    "from scipy import stats\n",
    "from scipy.io import loadmat\n",
    "import pandas as pd\n",
    "import numpy as np\n",
    "from pandas import DataFrame\n",
    "import chainer\n",
    "import chainer.functions as F\n",
    "import matplotlib.pyplot as plt\n",
    "from matplotlib.pyplot import imshow\n",
    "from PIL import Image"
   ]
  },
  {
   "cell_type": "markdown",
   "metadata": {
    "colab_type": "text",
    "id": "zZyd2ovRFa8-"
   },
   "source": [
    "**SOW-MKI49: Neural Information Processing Systems**\n",
    "\n",
    "**Assignment 5: Neural Decoding**\n",
    "\n",
    "**Total points: 100**\n",
    "\n",
    "**Author: Umut**\n",
    "\n",
    "In this assignment, you will implement a neural decoder for reconstructing perceived stimuli from brain responses. We will be using the dataset that was previously used in a number of papers. These papers along with additional lecture notes on neural decoding can be found in Brightspace. You can refer them for more details on the dataset and/or the method.\n",
    "\n",
    "The dataset contains fMRI data acquired from the early visual cortex of one subject as the subject was presented with 100 grayscale images of handwritten sixes and nines (50 sixes and 50 nines). The fMRI data has been realigned and slice time corrected. Furthermore, stimulus specific response amplitudes have been estimated with a general linear model.\n",
    "\n",
    "Let's first familiarize ourselves with the dataset. It contains a number of variables:\n",
    "\n",
    "* **X** -> This is a 100 x 784 matrix. The ith row contains the pixel values of the stimulus that was presented in the ith trial of the experiment. Note that the stimuli are 28 pixel x 28 pixel images, which were reshaped to 1 x 784 vectors.\n",
    "\n",
    "* **Y** -> This is a 100 x 3092 matrix. The ith row contains the voxel values of the responses that were measured in the ith trial of the experiment.\n",
    "\n",
    "* **X_prior** -> This is a 2000 x 784 matrix. Each row contains the pixel values of a different stimulus, which was not used in the experiment. Note that the stimuli are 28 pixel x 28 pixel images, which were reshaped to 1 x 784 vectors.\n",
    "\n",
    "Note: In the remainder of this document, we will use **x** for referring to a 784 x 1 stimulus vector and **y** for referring to a 3092 x 1 response vector."
   ]
  },
  {
   "cell_type": "markdown",
   "metadata": {
    "colab_type": "text",
    "id": "t03M9EgdGwiZ"
   },
   "source": [
    "## Task 1 (10 points)\n",
    "\n",
    "* Load the dataset.\n",
    "* Visualize some of the stimuli.\n",
    "* Normalize X and Y to have zero mean and unit variance. Tip: Recall that normalization means subtracting the mean of each pixel/voxel from itself and dividing it by its standard deviation. You can use zscore function.\n",
    "* Split X and Y in two parts called X_training and X_test, and Y_training and Y_test. The training set should contain 80 stimulus-response pairs (40 pairs for sixes and 40 pairs for nines). The test set should contain 20 stimulus-response pairs (10 pairs for sixes and 10 pairs for nines)."
   ]
  },
  {
   "cell_type": "code",
   "execution_count": 2,
   "metadata": {
    "colab": {},
    "colab_type": "code",
    "id": "pF6EIju9FZx6"
   },
   "outputs": [],
   "source": [
    "###\n",
    "# Load the dataset\n",
    "dataset = loadmat('69dataset2.mat')\n",
    "\n",
    "# get the stimuli\n",
    "x_data = dataset['X']\n",
    "y_data = dataset['Y']\n",
    "x_prior_data = dataset['X_prior']\n",
    "# convert stimuli to array\n",
    "x_dat = np.array(x_data)\n",
    "y_dat = np.array(y_data)\n",
    "x_prior_dat = np.array(x_prior_data)\n",
    "\n",
    "\n",
    "# convert stimuli 0, 25, 50, 75 and 99 to a 28x28 numpy array\n",
    "x_0  = np.reshape(x_dat[0],[28,28],order='F')\n",
    "x_25 = np.reshape(x_dat[25],[28,28],order='F')\n",
    "x_50 = np.reshape(x_dat[50],[28,28],order='F')\n",
    "x_75 = np.reshape(x_dat[75],[28,28],order='F')\n",
    "x_99 = np.reshape(x_dat[99],[28,28],order='F')"
   ]
  },
  {
   "cell_type": "code",
   "execution_count": 3,
   "metadata": {
    "colab": {},
    "colab_type": "code",
    "id": "pF6EIju9FZx6"
   },
   "outputs": [
    {
     "data": {
      "image/png": "[encoded data removed]",
      "text/plain": [
       "<Figure size 432x288 with 5 Axes>"
      ]
     },
     "metadata": {},
     "output_type": "display_data"
    }
   ],
   "source": [
    "###\n",
    "# show some input stimuli\n",
    "plt.subplot(1,10,1)\n",
    "plt.imshow(x_0,cmap='gray')\n",
    "plt.subplot(1,10,3)\n",
    "plt.imshow(x_25,cmap='gray')\n",
    "plt.subplot(1,10,5)\n",
    "plt.imshow(x_50,cmap='gray')\n",
    "plt.subplot(1,10,7)\n",
    "plt.imshow(x_75,cmap='gray')\n",
    "plt.subplot(1,10,9)\n",
    "plt.imshow(x_99,cmap='gray')\n",
    "\n",
    "# save some input stimuli\n",
    "plt.imsave('x_0.png', x_0, cmap='gray')\n",
    "plt.imsave('x_25.png', x_25, cmap='gray')\n",
    "plt.imsave('x_50.png', x_50, cmap='gray')\n",
    "plt.imsave('x_75.png', x_75, cmap='gray')\n",
    "plt.imsave('x_99.png', x_99, cmap='gray')"
   ]
  },
  {
   "cell_type": "code",
   "execution_count": 4,
   "metadata": {
    "colab": {},
    "colab_type": "code",
    "id": "pF6EIju9FZx6"
   },
   "outputs": [
    {
     "name": "stdout",
     "output_type": "stream",
     "text": [
      "x_dat_norm mean = -6.090366306515145e-17\n",
      "x_dat_norm2 mean = -6.090366306515145e-17\n",
      "x_dat_norm std =  0.9999999999999999\n",
      "x_dat_norm2 std =  0.9999999999999999\n",
      "y_dat_norm mean = 1.448661515598859e-16\n",
      "y_dat_norm2 mean = 1.448661515598859e-16\n",
      "y_dat_norm std =  1.0\n",
      "y_dat_norm2 std =  1.0\n",
      "x_prior_dat_norm mean =  -4.04574333218506e-17\n",
      "x_prior_dat_norm std =  0.999999999999999\n"
     ]
    }
   ],
   "source": [
    "###\n",
    "# Normalize X and Y to have zero mean and unit variance. \n",
    "# Tip: Recall that normalization means \n",
    "# subtracting the mean of each pixel/voxel from itself --> dat - dat.mean()\n",
    "# and dividing it by its standard deviation. --> dat_std\n",
    "# You can use zscore function.\n",
    "\n",
    "###\n",
    "# normalize X\n",
    "# mean is not zero... are we doing something wrong?\n",
    "# print(\"x_dat mean =\", x_dat.mean())\n",
    "\n",
    "# reshape to don't get weird errors in math functions\n",
    "# compute normalized values\n",
    "# x_dat2  = np.reshape(x_dat,[78400])\n",
    "\n",
    "x_dat_mean = np.mean(x_dat)\n",
    "x_dat_std = np.std(x_dat)\n",
    "x_dat_norm = (x_dat - x_dat_mean) / (x_dat_std)\n",
    "x_dat_norm2 = scipy.stats.mstats.zscore(x_dat,axis=None)\n",
    "\n",
    "# Print normalized values\n",
    "print(\"x_dat_norm mean =\", np.mean(x_dat_norm))\n",
    "print(\"x_dat_norm2 mean =\", np.mean(x_dat_norm2))\n",
    "print(\"x_dat_norm std = \",np.std(x_dat_norm))\n",
    "print(\"x_dat_norm2 std = \",np.std(x_dat_norm2))\n",
    "\n",
    "\n",
    "#x_dat_norm3 = np.expand_dims(x_dat_norm2, 1)\n",
    "\n",
    "###\n",
    "# Normalize Y\n",
    "\n",
    "# print(\"y_dat mean =\", (y_dat.mean())) \n",
    "\n",
    "# reshape to don't get weird errors in math functions\n",
    "# compute normalized values\n",
    "# y_dat2  = np.reshape(y_dat,[309200])\n",
    "y_dat_std = np.std(y_dat)\n",
    "y_dat_norm = (y_dat - np.mean(y_dat)) / (y_dat_std)\n",
    "y_dat_norm2 = scipy.stats.mstats.zscore(y_dat, axis = None)\n",
    "\n",
    "\n",
    "#y_dat_norm3 = np.expand_dims(y_dat_norm2, 1)\n",
    "\n",
    "# print('Y_dat_norm.shape =', y_dat_norm.shape)\n",
    "# print('Y_dat_norm2 shape =', y_dat_norm2.shape)\n",
    "\n",
    "\n",
    "# Print normalized values\n",
    "print(\"y_dat_norm mean =\", y_dat_norm.mean())\n",
    "print(\"y_dat_norm2 mean =\", y_dat_norm2.mean())\n",
    "print(\"y_dat_norm std = \",np.std(y_dat_norm))\n",
    "print(\"y_dat_norm2 std = \",np.std(y_dat_norm2))\n",
    "\n",
    "\n",
    "\n",
    "\n",
    "###\n",
    "# Normalize X_prior\n",
    "\n",
    "# x_prior_dat2  = np.reshape(x_prior_dat,[1568000])\n",
    "x_prior_dat_std = np.std(x_prior_dat)\n",
    "x_prior_dat_norm = (x_prior_dat - np.mean(x_prior_dat)) / (x_prior_dat_std)\n",
    "print(\"x_prior_dat_norm mean = \",np.mean(x_prior_dat_norm))\n",
    "print(\"x_prior_dat_norm std = \",np.std(x_prior_dat_norm))\n",
    "\n",
    "\n"
   ]
  },
  {
   "cell_type": "code",
   "execution_count": 5,
   "metadata": {},
   "outputs": [
    {
     "name": "stdout",
     "output_type": "stream",
     "text": [
      "x_train_6 shape = (40, 784)\n",
      "x_train_9 shape = (40, 784)\n",
      "x_train shape = (80, 784)\n",
      "\n",
      "x_test_6 shape = (10, 784)\n",
      "x_test_9 shape = (10, 784)\n",
      "x_test shape = (20, 784)\n",
      "\n",
      "\n",
      "y_train_6 shape = (40, 3092)\n",
      "y_train_9 shape = (40, 3092)\n",
      "y_train shape = (80, 3092)\n",
      "\n",
      "y_test_6 shape = (10, 3092)\n",
      "y_test_9 shape = (10, 3092)\n",
      "y_test shape = (20, 3092)\n"
     ]
    }
   ],
   "source": [
    "###\n",
    "# Split X and Y in two parts called X_training and X_test, and Y_training and Y_test. \n",
    "# The training set should contain 80 stimulus-response pairs (40 pairs for sixes and 40 pairs for nines).\n",
    "# The test set should contain 20 stimulus-response pairs (10 pairs for sixes and 10 pairs for nines).\n",
    "\n",
    "## do we need to use dat_norm ?\n",
    "\n",
    "### X \n",
    "# use the first 40 6's (0-39) and first 40 9's (50-89) for the training set [0:40] takes 0:39\n",
    "# combine these 2 sets with np.concatenate\n",
    "\n",
    "# Train\n",
    "x_train_6 = x_dat_norm[0:40]\n",
    "x_train_9 = x_dat_norm[50:90]\n",
    "x_train = np.concatenate((x_train_6, x_train_9), axis=0)\n",
    "\n",
    "# Test\n",
    "x_test_6 = x_dat_norm[40:50]\n",
    "x_test_9 = x_dat_norm[90:100]\n",
    "x_test = np.concatenate((x_test_6, x_test_9), axis=0)\n",
    "\n",
    "# Print to check sizes\n",
    "print('x_train_6 shape =', x_train_6.shape)\n",
    "print('x_train_9 shape =', x_train_9.shape)\n",
    "print('x_train shape =', x_train.shape)\n",
    "print()\n",
    "print('x_test_6 shape =', x_test_6.shape)\n",
    "print('x_test_9 shape =', x_test_9.shape)\n",
    "print('x_test shape =', x_test.shape)\n",
    "\n",
    "\n",
    "\n",
    "### Y\n",
    "# Train\n",
    "y_train_6 = y_dat_norm[0:40]\n",
    "y_train_9 = y_dat_norm[50:90]\n",
    "y_train = np.concatenate((y_train_6, y_train_9), axis=0)\n",
    "\n",
    "# Test\n",
    "y_test_6 = y_dat_norm[40:50]\n",
    "y_test_9 = y_dat_norm[90:100]\n",
    "y_test = np.concatenate((y_test_6, y_test_9), axis=0)\n",
    "\n",
    "# Print to check sizes\n",
    "print()\n",
    "print()\n",
    "print('y_train_6 shape =', y_train_6.shape)\n",
    "print('y_train_9 shape =', y_train_9.shape)\n",
    "print('y_train shape =', y_train.shape)\n",
    "print()\n",
    "print('y_test_6 shape =', y_test_6.shape)\n",
    "print('y_test_9 shape =', y_test_9.shape)\n",
    "print('y_test shape =', y_test.shape)"
   ]
  },
  {
   "cell_type": "markdown",
   "metadata": {},
   "source": [
    "Our goal is to solve the problem of reconstructing **x** from **y**. One possible approach to solve this problem is to use a *discriminative* model. Discriminative models predict **x** as a function of **y**. That is:\n",
    "\n",
    "**x** = f(**y**)\n",
    "\n",
    "We will assume that f is a linear function. That is:\n",
    "\n",
    "**x** = **B'** **y**\n",
    "\n",
    "f can be seen as a very simple linear neural network comprising one layer of weights (i.e., **B**). We can estimate **B** in close form with ridge regression. That is:\n",
    "\n",
    "**B** = inv(**Y**\\_training' **Y**\\_training + lambda **I**) **Y**\\_training' **X**\\_training\n",
    "\n",
    "where lambda is the regularization coefficient, **I** is the *q* x *q* identity matrix, and *q* is the number of voxels. Note that we can safely ignore the intercept since we normalized our data to have zero mean and unit variance."
   ]
  },
  {
   "cell_type": "markdown",
   "metadata": {
    "colab_type": "text",
    "id": "ewW8yODUIVbP"
   },
   "source": [
    "## Task 2  (15 points)\n",
    "\n",
    "* Estimate **B** on the training set. Tip: Normally, you should use cross validation to estimate lambda. For simplicity, you can assume that lambda = 10 ^ -6.\n",
    "* Reconstruct **x** from **y** in the test set.\n",
    "* Visualize the reconstructions."
   ]
  },
  {
   "cell_type": "code",
   "execution_count": 6,
   "metadata": {
    "colab": {},
    "colab_type": "code",
    "id": "DRxkSzGyH8Bh"
   },
   "outputs": [
    {
     "name": "stdout",
     "output_type": "stream",
     "text": [
      "shape part1 (3092, 3092)\n",
      "shape part2 (3092, 784)\n",
      "shape x_recon (80, 784)\n",
      "shape x_train (80, 784)\n",
      "x_recon_0[0,0] =  -0.4256736828984188\n",
      "x_recon_19[0,0] =  [-0.42567368 -0.42567368 -0.42567368 -0.42567368 -0.42567368 -0.42567368\n",
      " -0.42567368 -0.42567368 -0.42567368 -0.42567368 -0.42567368 -0.42567368\n",
      " -0.42567368 -0.42567368 -0.42567368 -0.42567368 -0.42567368 -0.42567368\n",
      " -0.42567368 -0.42567368 -0.42567368 -0.42567368 -0.42567368 -0.42567368\n",
      " -0.42567368 -0.42567368 -0.42567368 -0.42567368]\n"
     ]
    },
    {
     "name": "stderr",
     "output_type": "stream",
     "text": [
      "c:\\users\\avajang-pc\\appdata\\local\\programs\\python\\python35\\lib\\site-packages\\matplotlib\\figure.py:98: MatplotlibDeprecationWarning: \n",
      "Adding an axes using the same arguments as a previous axes currently reuses the earlier instance.  In a future version, a new instance will always be created and returned.  Meanwhile, this warning can be suppressed, and the future behavior ensured, by passing a unique label to each axes instance.\n",
      "  \"Adding an axes using the same arguments as a previous axes \"\n"
     ]
    },
    {
     "data": {
      "image/png": "[encoded data removed]",
      "text/plain": [
       "<Figure size 432x288 with 1 Axes>"
      ]
     },
     "metadata": {},
     "output_type": "display_data"
    },
    {
     "data": {
      "image/png": "[encoded data removed]",
      "text/plain": [
       "<Figure size 432x288 with 4 Axes>"
      ]
     },
     "metadata": {},
     "output_type": "display_data"
    }
   ],
   "source": [
    "from numpy.linalg import inv\n",
    "\n",
    "###\n",
    "# Estimate B on the training set.\n",
    "\n",
    "# B = inv(Y_training' * Y_training + lambda * eye(q)) \\ Y_training' * X_training\n",
    "# B^= (y_train^T * y_train + lam* I*)^(-1) \\ y_train^T * x_train\n",
    "# I* = eye(q) = an q-by-q identity matrix with ones on the main diagonal and zeros elsewhere.\n",
    "\n",
    "# Y_training' = y_train^T = y_train_T = transpose y_train\n",
    "\n",
    "# given variables\n",
    "q = len(y_dat[0])\n",
    "lam = 10**-6\n",
    "\n",
    "# compute other variables\n",
    "I_q = np.eye(q)\n",
    "y_train_T = y_train.transpose()\n",
    "\n",
    "# Compute B\n",
    "temp1 = y_train_T.dot(y_train) # y_train^T * y_train\n",
    "temp2 = lam * I_q # lambda * I\n",
    "part1 = (temp1 + temp2) # inv(y_train^T * y_train + lambda * I)\n",
    "part2 = y_train_T.dot(x_train) # y_train_T * x_train\n",
    "B = np.linalg.solve(part1,part2) # inv(y_train^T * y_train + lambda * I) /  y_train_T * x_train\n",
    "\n",
    "print('shape part1', part1.shape)\n",
    "print('shape part2', part2.shape)\n",
    "\n",
    "###\n",
    "# Reconstruct x** from **y in the test set.\n",
    "# x** = **B' y\n",
    "# x_train[x] = B^T * y_train\n",
    "#print('shape B', B.shape)\n",
    "#print('shape B_T', B_T.shape)\n",
    "#print('shape y_train_T', y_train_T.shape)\n",
    "\n",
    "# Transpose B\n",
    "B_T = B.transpose()\n",
    "x_recon = B_T.dot(y_train_T)\n",
    "x_recon = x_recon.transpose()\n",
    "\n",
    "print('shape x_recon', x_recon.shape)\n",
    "print('shape x_train', x_train.shape)\n",
    "\n",
    "###\n",
    "# Visualize the reconstructions\n",
    "\n",
    "# reshape the reconstructed x's\n",
    "x_recon_0  = np.reshape(x_recon[0],[28,28],order='F')\n",
    "x_recon_19  = np.reshape(x_recon[19],[28,28],order='F')\n",
    "x_recon_39  = np.reshape(x_recon[39],[28,28],order='F')\n",
    "x_recon_59  = np.reshape(x_recon[59],[28,28],order='F')\n",
    "x_recon_79  = np.reshape(x_recon[79],[28,28],order='F')\n",
    "\n",
    "# show the reconstructed x's \n",
    "plt.imshow(x_recon_0, cmap='gray')\n",
    "plt.imshow(x_recon_19, cmap='gray')\n",
    "plt.imshow(x_recon_39, cmap='gray')\n",
    "plt.imshow(x_recon_59, cmap='gray')\n",
    "plt.imshow(x_recon_79, cmap='gray')\n",
    "\n",
    "# save the reconstructed x's\n",
    "plt.imsave('x_recon_0.png', x_recon_0, cmap='gray')\n",
    "plt.imsave('x_recon_19.png', x_recon_19, cmap='gray')\n",
    "plt.imsave('x_recon_39.png', x_recon_39, cmap='gray')\n",
    "plt.imsave('x_recon_59.png', x_recon_59, cmap='gray')\n",
    "plt.imsave('x_recon_79.png', x_recon_79, cmap='gray')\n",
    "\n",
    "print('x_recon_0[0,0] = ', x_recon_0[0,0])\n",
    "print('x_recon_19[0,0] = ', x_recon_19[0])\n",
    "\n",
    "\n",
    "### show multiple figures\n",
    "# to check if they are different\n",
    "import numpy as np\n",
    "import matplotlib.pyplot as plt\n",
    "\n",
    "fig=plt.figure()\n",
    "fig.add_subplot(5,1,1)\n",
    "plt.imshow(x_recon_0, cmap='gray')\n",
    "fig.add_subplot(5,1,2)\n",
    "plt.imshow(x_recon_19, cmap='gray')\n",
    "fig.add_subplot(5,1,3)\n",
    "plt.imshow(x_recon_39, cmap='gray')\n",
    "fig.add_subplot(5,1,4)\n",
    "plt.imshow(x_recon_59, cmap='gray')\n",
    "fig.add_subplot(5,1,4)\n",
    "plt.imshow(x_recon_79, cmap='gray')\n",
    "plt.show()\n"
   ]
  },
  {
   "cell_type": "markdown",
   "metadata": {
    "colab_type": "text",
    "id": "LYLXZGJ4H8LP"
   },
   "source": [
    "\n",
    "Another possible approach to solve the problem of reconstructing **x** from **y** is to use a *generative* model and invert it with Bayes' rule. We reformulate the problem as finding the most probable **x** that could have caused **y**. That is:\n",
    "\n",
    "argmax_**x** P(**x** | **y**)\n",
    "\n",
    "where P(**x** | **y**) is called the posterior (probability of the stimulus being **x** if the observation is **y**). In other words, we have to define the posterior, estimate its parameters and find the argument that maximizes it, which will be the reconstruction of **x** from **y**. While, this may seem daunting, it actually has a simple solution. The posterior assigns a probability to an event by combining our observations and beliefs about it, and can be decomposed with Bayes' rule as the product of how likely our observations are given the event (probability of observing **y** if the stimulus is **x**) and how likely the event is independent of our observations (probability of the stimulus being **x**). That is:\n",
    "\n",
    "P(**x** | **y**) ~ P(**y** | **x**) * P(**x**)\n",
    "\n",
    "where P(**y** | **x**) is called the likelihood and P(x) is called the prior.\n",
    "\n",
    "We will assume that the likelihood and the prior are multivariate Gaussian distributions. A Gaussian is characterized by two parameters: a mean vector and a covariance matrix. In the case of the likelihood, the mean of the Gaussian is given by:\n",
    "\n",
    "**mu**\\_likelihood = **B'** **x**\n",
    "\n",
    "As before, we can estimate **B** in close form with ridge regression:\n",
    "\n",
    "**B** = inv(**X**\\_training' **X**\\_training + lambda **I**) **X**\\_training' **Y**\\_training\n",
    "\n",
    "where lambda is the regularization coefficient, I is the *p* x *p* identity matrix, and *p* is the number of pixels. The covariance matrix of the likelihood is given by:\n",
    "\n",
    "**Sigma**_likelihood = diag(E[||**y** - **B'** **x**|| ^ 2]). \n",
    "\n",
    "In the case of the prior, the mean of the Gaussian is given by:\n",
    "\n",
    "**mu**\\_prior = **0** (which is a vector of zeros)\n",
    "\n",
    "The covariance matrix of the prior is given by:\n",
    "\n",
    "**Sigma**\\_prior = **X**\\_prior' * **X**\\_prior / (n - 1)\n",
    "\n",
    "where n is the length of **X**\\_prior."
   ]
  },
  {
   "cell_type": "markdown",
   "metadata": {
    "colab_type": "text",
    "id": "ITe4_zh1JZn1"
   },
   "source": [
    "## Task 3 (20 points)\n",
    "\n",
    "* Estimate **B** on the training set. Tip: Normally, you should use cross-validation to estimate lambda and Sigma_likelihood. For simplicity, you can assume that lambda = 10 ^ -6 and Sigma_likelihood = 10 ^ -3 **I**.\n",
    "* Estimate **Sigma**\\_prior. Tip: Add 10 ^ -6 to the diagonal of Sigma_prior for regularization.\n",
    "* Visualize **Sigma**\\_prior. Can you explain what it shows?"
   ]
  },
  {
   "cell_type": "code",
   "execution_count": 7,
   "metadata": {
    "colab": {},
    "colab_type": "code",
    "id": "vePaLa1sJiFB"
   },
   "outputs": [
    {
     "name": "stdout",
     "output_type": "stream",
     "text": [
      "Sigma_temp1 shape =  (784, 784)\n",
      "Sigma_temp2 =  783\n",
      "Sigma_temp3 shape =  (784, 784)\n",
      "lam + I_p shape =  (784, 784)\n"
     ]
    },
    {
     "data": {
      "image/png": "[encoded data removed]",
      "text/plain": [
       "<Figure size 432x288 with 1 Axes>"
      ]
     },
     "metadata": {},
     "output_type": "display_data"
    }
   ],
   "source": [
    "###\n",
    "# Estimate B** on the training set.\n",
    "\n",
    "# mu_likelihood = B' x\n",
    "x_train_T = x_train.transpose()\n",
    "mu_likelihood = B.dot(x_train_T) # B'x\n",
    "p = len(x_dat[0]) # number of pixels = 28*28 = 784\n",
    "\n",
    "# Sigma_likelihood = 10 ^ -3 **I.\n",
    "I_p = np.eye(p) \n",
    "Sigma_likelihood = 10**-3* I_p\n",
    "\n",
    "# compute B\n",
    "B_gen_temp1 = x_train_T.dot(x_train) # X_training' **X_training\n",
    "B_gen_temp2 = lam * I_p #  lambda I*\n",
    "#B_gen_part1 = np.linalg.inv(B_gen_temp1 + B_gen_temp2)\n",
    "B_gen_part1 = np.linalg.inv(B_gen_temp1 + B_gen_temp2) # inv(X_training' **X_training + lambda I*)\n",
    "B_gen_part2 = x_train_T.dot(y_train) # X_training' Y_training\n",
    "\n",
    "B_gen1 = B_gen_part1.dot(B_gen_part2)\n",
    "B_gen2 = np.linalg.solve(B_gen_part1, B_gen_part2)\n",
    "\n",
    "\n",
    "# B** = inv(X_training' **X_training + lambda I*) *X_training' Y_training\n",
    "\n",
    "###\n",
    "# Estimate Sigma_prior\n",
    "# Tip: Add 10 ^ -6 to the diagonal of Sigma_prior for regularization.\n",
    "\n",
    "# Sigma_prior = X*_prior' * *X_prior / (n - 1)\n",
    "# where n is the length of X_prior.\n",
    "n = len(x_prior_dat[0])\n",
    "\n",
    "x_prior = x_prior_dat_norm\n",
    "x_prior_T = x_prior.transpose()\n",
    "\n",
    "Sigma_temp1 = x_prior_T.dot(x_prior)\n",
    "Sigma_temp2 = (n - 1)\n",
    "Sigma_temp3 = Sigma_temp1 / Sigma_temp2\n",
    "\n",
    "print('Sigma_temp1 shape = ', Sigma_temp1.shape)\n",
    "print('Sigma_temp2 = ', Sigma_temp2)\n",
    "print('Sigma_temp3 shape = ', Sigma_temp3.shape)\n",
    "print('lam + I_p shape = ', I_p.shape)\n",
    "\n",
    "Sigma_prior = Sigma_temp3 + lam * I_p\n",
    "\n",
    "### Visualize Sigma_prior. \n",
    "### Can you explain what it shows?\n",
    "\n",
    "plt.imshow(Sigma_prior, cmap='gray')\n",
    "plt.imsave('Sigma_prior.png', Sigma_prior, cmap='gray')\n",
    "\n",
    "###\n",
    "# Sigma_prior, in the linear Gaussian case, \n",
    "# is the required covariance matrix for the prior R\n",
    "# R = 1 (N-1) * sum(z^n*(z^n)^T)\n",
    "# Schoenmakers (2013)"
   ]
  },
  {
   "cell_type": "markdown",
   "metadata": {
    "colab_type": "text",
    "id": "6PMMnQfeJidL"
   },
   "source": [
    "Having defined the likelihood and the prior as Gaussians, we can derive the posterior by multiplying them. It turns out that the product of two Gaussians is another Gaussian, whose mean vector is given by:\n",
    "\n",
    "**mu**\\_posterior = inv(inv(**Sigma**\\_prior) + **B** inv(**Sigma**\\_likelihood) **B**') **B** * inv(**Sigma**\\_likelihood) **y**\n",
    "\n",
    "We are almost done. Recall that the reconstruction of **x** from **y** is the argument that maximizes the posterior, which we derived to be a Gaussian. We will be completely done once we answer the following question: What is the argument that maximizes a Gaussian?\n",
    "\n",
    ".  \n",
    ".  \n",
    ".  \n",
    ".  \n",
    ".  \n",
    ".\n",
    "\n",
    "The answer is its mean vector, which is the solution of our initial problem. That is:\n",
    "\n",
    "argmax_**x** P(**x** | **y**) =  \n",
    "**mu**\\_posterior =  \n",
    "inv(inv(**Sigma**\\_prior) + **B** inv(**Sigma**\\_likelihood) **B**') **B** * inv(**Sigma**\\_likelihood) **y**\n",
    "\n",
    "Now, we can plug any **y** in the above equation and reconstruct the most probable **x** that could have caused it.\n"
   ]
  },
  {
   "cell_type": "code",
   "execution_count": null,
   "metadata": {},
   "outputs": [],
   "source": [
    "import matplotlib\n",
    "matplotlib.__version__"
   ]
  },
  {
   "cell_type": "markdown",
   "metadata": {
    "colab_type": "text",
    "id": "TLn3_7q2J93x"
   },
   "source": [
    "## Task 4 (25 points)\n",
    "\n",
    "- Reconstruct **x** from **y** in the test set.\n",
    "- Visualize the reconstructions.\n",
    "- Compare the reconstructions with the earlier reconstructions. Which one is better? Why? Can you think of ways to improve the results?"
   ]
  },
  {
   "cell_type": "code",
   "execution_count": 8,
   "metadata": {},
   "outputs": [
    {
     "name": "stdout",
     "output_type": "stream",
     "text": [
      "B_gen1.shape = (784, 3092)\n",
      "B_gen1_T.shape = (3092, 784)\n",
      "inv_sig_like.shape = (784, 784)\n",
      "(784, 3092)\n",
      "(784, 3092)\n"
     ]
    },
    {
     "data": {
      "image/png": "[encoded data removed]",
      "text/plain": [
       "<Figure size 432x288 with 1 Axes>"
      ]
     },
     "metadata": {},
     "output_type": "display_data"
    }
   ],
   "source": [
    "###\n",
    "# mu_posterior = inv(inv(Sigma_prior) + B** inv(Sigma_likelihood) **B') B** * inv(Sigma_likelihood) **y\n",
    "\n",
    "# argmax_x** P(x** | y*) = \n",
    "# *mu_posterior =\n",
    "# inv(inv(Sigma_prior) + B** inv(Sigma_likelihood) **B') B** * inv(Sigma_likelihood) **y\n",
    "\n",
    "\n",
    "\n",
    "###\n",
    "# Reconstruct x** from **y in the test set.\n",
    "\n",
    "#X_test_hat = (inv(Sigma_prior) + B / Sigma_liklihood * B') \\ B / Sigma_liklihood * Y_test';\n",
    "#X_test_hat = X_test_hat';\n",
    "B_gen1_T = B_gen1.transpose()\n",
    "y_test_T = y_test.transpose()\n",
    "\n",
    "\n",
    "inv_sig_prior = np.linalg.inv(Sigma_prior) # inv(Sigma_prior)\n",
    "inv_sig_like = np.linalg.inv(Sigma_likelihood) # inv(Sigma_likelihood)\n",
    "\n",
    "print('B_gen1.shape =', B_gen1.shape)\n",
    "print('B_gen1_T.shape =', B_gen1_T.shape)\n",
    "print('inv_sig_like.shape =', inv_sig_like.shape)\n",
    "\n",
    "## first B / Sigma_likelihood +B' then  + inv(sigma_prior)\n",
    "#t1 = B_gen1_T.dot(inv_sig_like) # should be + but does not match shape: B = (3092, 784), inv(Sigma_prior) = (784,784) \n",
    "#t2 = t1.dot(B_gen1)\n",
    "#t3 = np.linalg.inv(t2 + I) #works with I_q check if this is correct\n",
    "#t4 = t3.dot(B_gen1_T)\n",
    "#t5 = t4.dot(inv_sig_like)\n",
    "#t6 = y_test.dot(t5)\n",
    "\n",
    "#x_test_recon = t6\n",
    "#x_test_recon_T = x_test_recon.transpose()\n",
    "\n",
    "###\n",
    "#t1 = Sigma_likelihood.dot(B_gen1) # Sigma_liklihood * B'\n",
    "#t2 = B_gen1 / t1 # B / Sigma_liklihood * B'\n",
    "\n",
    "#t1 = B_gen1_T.dot(Sigma_likelihood)\n",
    "#t2 = t1.dot(B_gen1)\n",
    "#t3 = inv_sig_prior + t2 # inv(Sigma_prior) + B / Sigma_liklihood * B'\n",
    "#t4 = np.linalg.inv(t3) # inv(inv(Sigma_prior) + B** inv(Sigma_likelihood) **B')\n",
    "\n",
    "#t5 = t4.dot(B_gen1)\n",
    "#t6 = t5.dot(y_test)\n",
    "\n",
    "#x_test_recon = t6\n",
    "#x_test_recon_T = x_test_recon.transpose()\n",
    "\n",
    "\n",
    "###\n",
    "# inv(inv(Sigma_prior) + B** inv(Sigma_likelihood) **B') B** * inv(Sigma_likelihood) **y\n",
    "print(B_gen1.shape)\n",
    "print(B_gen2.shape)\n",
    "\n",
    "t1 = inv_sig_like.dot(B_gen1) # B** inv(Sigma_likelihood)\n",
    "t2 = t1.dot(B_gen1_T) # B** inv(Sigma_likelihood) **B'\n",
    "t3 = inv_sig_prior + t2 # inv(Sigma_prior) + B / Sigma_liklihood * B'\n",
    "t4 = np.linalg.inv(t3) # inv(inv(Sigma_prior) + B** inv(Sigma_likelihood) **B')\n",
    "\n",
    "t5 = B_gen1_T.dot(t4) # t4 * B** \n",
    "t6 = t5.dot(inv_sig_like) # t5 * inv(Sigma_likelihood)\n",
    "t7 = y_test.dot(t6) # t6 *y\n",
    "\n",
    "x_test_recon = t7\n",
    "x_test_recon_T = x_test_recon.transpose()\n",
    "\n",
    "\n",
    "\n",
    "###\n",
    "# Visualize the reconstructions.\n",
    "\n",
    "# reshape the reconstructed x's\n",
    "x_test_recon_0  = np.reshape(x_test_recon[0],[28,28],order='F')\n",
    "x_test_recon_4  = np.reshape(x_test_recon[4],[28,28],order='F')\n",
    "x_test_recon_9  = np.reshape(x_test_recon[9],[28,28],order='F')\n",
    "x_test_recon_14  = np.reshape(x_test_recon[14],[28,28],order='F')\n",
    "x_test_recon_19  = np.reshape(x_test_recon[19],[28,28],order='F')\n",
    "\n",
    "# show the reconstructed x's \n",
    "plt.imshow(x_test_recon_0, cmap='gray')\n",
    "plt.imshow(x_test_recon_4, cmap='gray')\n",
    "plt.imshow(x_test_recon_9, cmap='gray')\n",
    "plt.imshow(x_test_recon_14, cmap='gray')\n",
    "plt.imshow(x_test_recon_19, cmap='gray')\n",
    "\n",
    "# save the reconstructed x's\n",
    "plt.imsave('x_test_recon_0.png', x_test_recon_0, cmap='gray')\n",
    "plt.imsave('x_test_recon_4.png', x_test_recon_4, cmap='gray')\n",
    "plt.imsave('x_test_recon_9.png', x_test_recon_9, cmap='gray')\n",
    "plt.imsave('x_test_recon_14.png', x_test_recon_14, cmap='gray')\n",
    "plt.imsave('x_test_recon_19.png', x_test_recon_19, cmap='gray')\n",
    "\n",
    "\n",
    "###\n",
    "# Compare the reconstructions with the earlier reconstructions. \n",
    "# Which one is better? Why? Can you think of ways to improve the results?\n",
    "\n",
    "\n",
    "# The earlier version was better. This is logical since it is trained on the 80 train-sets instead of the 20 test-sets\n",
    "# Improvement can be done by using the larger test-set to learn and then test it on the smaller test-set"
   ]
  },
  {
   "cell_type": "markdown",
   "metadata": {
    "colab_type": "text",
    "id": "mQwBsKfdKzJc"
   },
   "source": [
    "Now the real fight begins! You might have already realized that the second approach is very similar to the one in the face reconstruction paper that we have discussed in the last lecture. The main difference is how the stimuli are encoded. So far, we have been encoding the stimuli with an identity transformation:\n",
    "\n",
    "**mu**\\_likelihood = **B'** g(**x**)\n",
    "\n",
    "where g(**x**) = **x**\n",
    "\n",
    "In the paper, they are encoded as the features extracted from a DNN:\n",
    "\n",
    "**mu**\\_likelihood = **B'** DNN(**x**)\n",
    "\n",
    "Similarly, we have been decoding the responses with MAP estimation of the stimuli:\n",
    "\n",
    "g ^ -1(argmax_g(**x**) P(g(**x**) | **y**))\n",
    "\n",
    "where g ^ -1(**y**) = **y**\n",
    "\n",
    "In the paper, they are decoded with MAP estimation of the features followed by an inverse DNN:\n",
    "\n",
    "DNN ^ -1(argmax_DNN(**x**) P(DNN(**x**) | **y**))"
   ]
  },
  {
   "cell_type": "markdown",
   "metadata": {
    "colab_type": "text",
    "id": "6prNNFgwN9jA"
   },
   "source": [
    "## Task 5 (30 points)\n",
    "\n",
    "- Train a simple DNN for digit classification on the MNIST dataset.\n",
    "- Select an indermediate layer of the DNN as your feature extractor.\n",
    "- Train another simple DNN to invert the first DNN. That is, it should transform features extracted by the selected layer of the first DNN to stimuli.\n",
    "- Repeat Task 3 but use the trained DNNs instead of identity transformation."
   ]
  },
  {
   "cell_type": "code",
   "execution_count": 10,
   "metadata": {
    "colab": {},
    "colab_type": "code",
    "id": "SssHo2EKPlSu"
   },
   "outputs": [],
   "source": [
    "## train a simple DNN for digit classifation on MNIST\n",
    "import numpy as np\n",
    "import chainer\n",
    "from chainer import backend\n",
    "from chainer import backends\n",
    "from chainer.backends import cuda\n",
    "from chainer import Function, report, training, utils, Variable\n",
    "from chainer import datasets, iterators, optimizers, serializers\n",
    "from chainer import Link, Chain, ChainList\n",
    "import chainer.functions as F\n",
    "import chainer.links as L\n",
    "from chainer.training import extensions\n",
    "from chainer.backends.cuda import to_cpu\n",
    "from chainer.dataset import concat_examples\n"
   ]
  },
  {
   "cell_type": "code",
   "execution_count": 51,
   "metadata": {},
   "outputs": [],
   "source": [
    "batchsize = 128\n",
    "max_epoch = 10\n",
    "## we are doing digit classification instead of construting the brain stimuli\n",
    "train, test = chainer.datasets.mnist.get_mnist(withlabel=True, ndim=3)\n",
    "\n",
    "# create a dataset iterator\n",
    "train_iter = iterators.SerialIterator(train,batchsize)\n",
    "test_iter = iterators.SerialIterator(test,batchsize,repeat = False, shuffle=False)\n"
   ]
  },
  {
   "cell_type": "code",
   "execution_count": 56,
   "metadata": {},
   "outputs": [
    {
     "ename": "TypeError",
     "evalue": "object of type 'numpy.int32' has no len()",
     "output_type": "error",
     "traceback": [
      "\u001b[1;31m---------------------------------------------------------------------------\u001b[0m",
      "\u001b[1;31mTypeError\u001b[0m                                 Traceback (most recent call last)",
      "\u001b[1;32m<ipython-input-56-f22ee6b0e9dd>\u001b[0m in \u001b[0;36m<module>\u001b[1;34m()\u001b[0m\n\u001b[1;32m----> 1\u001b[1;33m \u001b[0mlen\u001b[0m\u001b[1;33m(\u001b[0m\u001b[0mtrain\u001b[0m\u001b[1;33m[\u001b[0m\u001b[1;36m0\u001b[0m\u001b[1;33m]\u001b[0m\u001b[1;33m[\u001b[0m\u001b[1;36m1\u001b[0m\u001b[1;33m]\u001b[0m\u001b[1;33m)\u001b[0m\u001b[1;33m\u001b[0m\u001b[0m\n\u001b[0m",
      "\u001b[1;31mTypeError\u001b[0m: object of type 'numpy.int32' has no len()"
     ]
    }
   ],
   "source": [
    "\n"
   ]
  },
  {
   "cell_type": "code",
   "execution_count": 80,
   "metadata": {},
   "outputs": [],
   "source": [
    "## train a simple DNN for MNIST classification\n",
    "class DNN(chainer.Chain):\n",
    "    def __init__(self):\n",
    "        super(DNN,self).__init__()\n",
    "        with self.init_scope():\n",
    "            self.conv1 = L.Convolution2D(None,8,ksize=3)\n",
    "            self.conv2 = L.Convolution2D(None,16,ksize=3)\n",
    "            self.l3 = L.Linear(None,32)\n",
    "            self.l4 = L.Linear(None,10)\n",
    "    def __call__(self,x):\n",
    "        h1 = F.relu(self.conv1(x))\n",
    "        h2 = F.relu(self.conv2(h1))\n",
    "        h3 = F.relu(self.l3(h2))\n",
    "        return self.l4(h3)\n",
    "    \n",
    "    \n",
    "    def extract(self, x, layer_name='l4'):\n",
    "        \n",
    "        if layer_name == 'conv1':\n",
    "            return F.relu(self.conv1(x))\n",
    "        \n",
    "        elif layer_name == 'conv2':\n",
    "            h1 = F.relu(self.conv1(x))\n",
    "            return F.relu(self.conv2(h1))\n",
    "        \n",
    "        elif layer_name == 'l3':\n",
    "            h1 = F.relu(self.conv1(x))\n",
    "            h2 = F.relu(self.conv2(h1))\n",
    "            return F.relu(self.l3(h2))\n",
    "        \n",
    "        else:\n",
    "            h1 = F.relu(self.conv1(x))\n",
    "            h2 = F.relu(self.conv2(h1))\n",
    "            h3 = F.relu(self.l3(h2))\n",
    "            return self.l4(h3)"
   ]
  },
  {
   "cell_type": "code",
   "execution_count": 81,
   "metadata": {},
   "outputs": [],
   "source": [
    "model = DNN()\n",
    "gpu_id = 0\n",
    "if gpu_id >= 0:\n",
    "    model.to_gpu(gpu_id)"
   ]
  },
  {
   "cell_type": "code",
   "execution_count": 82,
   "metadata": {},
   "outputs": [
    {
     "data": {
      "text/plain": [
       "<chainer.optimizers.adam.Adam at 0x1f52c519518>"
      ]
     },
     "execution_count": 82,
     "metadata": {},
     "output_type": "execute_result"
    }
   ],
   "source": [
    "optimizer = optimizers.Adam()\n",
    "optimizer.setup(model)"
   ]
  },
  {
   "cell_type": "code",
   "execution_count": 85,
   "metadata": {},
   "outputs": [],
   "source": [
    "# loss function: softmax_cross_entropy()\n",
    "while train_iter.epoch < max_epoch:\n",
    "    # iteration of the training loop\n",
    "    train_batch = train_iter.next()\n",
    "    image_train, target_train = concat_examples(train_batch,gpu_id)\n",
    "    \n",
    "    prediction_train = model(image_train)\n",
    "    \n",
    "    loss = F.softmax_cross_entropy(prediction_train,target_train)\n",
    "    \n",
    "    model.cleargrads()\n",
    "    loss.backward()\n",
    "    \n",
    "    optimizer.update()\n",
    "    \n",
    "    # check the validation accuracy of predictions after every epoch\n",
    "    if train_iter.is_new_epoch:\n",
    "        # show the training loss\n",
    "        print('epoch:{:02d} train_loss:{:.04f}'.format(train_iter.epoch,float(to_cpu(loss.data))),end='')\n",
    "        \n",
    "        test_losses = []\n",
    "        test_accuracies = []\n",
    "        while True:\n",
    "            test_batch = test_iter.next()\n",
    "            image_test,target_test = concat_examples(test_batch,gpu_id)\n",
    "            prediction_test = model(image_test)\n",
    "            loss_test = F.softmax_cross_entropy(prediction_test,target_test)\n",
    "            test_losses.append(to_cpu(loss_test.data))\n",
    "            \n",
    "            accuracy = F.accuracy(prediction_test,target_test)\n",
    "            accuracy.to_cpu()\n",
    "            test_accuracies.append(accuracy.data)\n",
    "            \n",
    "            if test_iter.is_new_epoch:\n",
    "                test_iter.epoch=0\n",
    "                test_iter.current_position=0\n",
    "                test_iter.is_new_epoch=False\n",
    "                test_iter._pushed_position = None\n",
    "                break\n",
    "        print('Val_loss:{:.04f} val_accuracy:{:.04f}'.format(np.mean(test_losses),np.mean(test_accuracies)))"
   ]
  },
  {
   "cell_type": "code",
   "execution_count": 63,
   "metadata": {},
   "outputs": [],
   "source": [
    "# save the model\n",
    "serializers.save_npz('DNN_MNIST_model',model)"
   ]
  },
  {
   "cell_type": "code",
   "execution_count": 76,
   "metadata": {},
   "outputs": [
    {
     "name": "stdout",
     "output_type": "stream",
     "text": [
      "<class '__main__.DNN'>\n",
      "label: 7\n",
      "preticted label: 7\n"
     ]
    },
    {
     "data": {
      "image/png": "[encoded data removed]",
      "text/plain": [
       "<Figure size 432x288 with 1 Axes>"
      ]
     },
     "metadata": {},
     "output_type": "display_data"
    }
   ],
   "source": [
    "## perform the DNN classification model\n",
    "dnn_model = DNN()\n",
    "print(type(dnn_model))\n",
    "serializers.load_npz('DNN_MNIST_model',dnn_model)\n",
    "# get a test image and label\n",
    "x,t = test[0]\n",
    "plt.imshow(x.reshape(28,28),cmap='gray')\n",
    "print('label:',t)\n",
    "# use the model\n",
    "x = x[None,...]\n",
    "y = dnn_model(x)\n",
    "y = y.data\n",
    "# look for the most probable digit number using argmax\n",
    "prediction_label = y.argmax(axis=1)\n",
    "print(\"preticted label:\",prediction_label[0])"
   ]
  },
  {
   "cell_type": "code",
   "execution_count": 75,
   "metadata": {},
   "outputs": [
    {
     "data": {
      "text/plain": [
       "__main__.DNN"
      ]
     },
     "execution_count": 75,
     "metadata": {},
     "output_type": "execute_result"
    }
   ],
   "source": [
    "type(dnn_model)"
   ]
  },
  {
   "cell_type": "code",
   "execution_count": 74,
   "metadata": {},
   "outputs": [
    {
     "ename": "AttributeError",
     "evalue": "'NoneType' object has no attribute 'forward'",
     "output_type": "error",
     "traceback": [
      "\u001b[1;31m---------------------------------------------------------------------------\u001b[0m",
      "\u001b[1;31mAttributeError\u001b[0m                            Traceback (most recent call last)",
      "\u001b[1;32m<ipython-input-74-5c373f9d42d6>\u001b[0m in \u001b[0;36m<module>\u001b[1;34m()\u001b[0m\n\u001b[0;32m      8\u001b[0m \u001b[0mlatent_feature_te\u001b[0m \u001b[1;33m=\u001b[0m \u001b[1;33m[\u001b[0m\u001b[1;33m]\u001b[0m\u001b[1;33m\u001b[0m\u001b[0m\n\u001b[0;32m      9\u001b[0m \u001b[1;32mfor\u001b[0m \u001b[0mimg_tr\u001b[0m \u001b[1;32min\u001b[0m \u001b[0mtrain\u001b[0m\u001b[1;33m:\u001b[0m\u001b[1;33m\u001b[0m\u001b[0m\n\u001b[1;32m---> 10\u001b[1;33m     \u001b[0mlatent_feature_tr\u001b[0m\u001b[1;33m.\u001b[0m\u001b[0mappend\u001b[0m\u001b[1;33m(\u001b[0m\u001b[0mmodel\u001b[0m\u001b[1;33m.\u001b[0m\u001b[0mforward\u001b[0m\u001b[1;33m(\u001b[0m\u001b[0mimg_tr\u001b[0m\u001b[1;33m,\u001b[0m \u001b[0mlayers\u001b[0m\u001b[1;33m=\u001b[0m\u001b[1;33m[\u001b[0m\u001b[0mlayer_name\u001b[0m\u001b[1;33m]\u001b[0m\u001b[1;33m)\u001b[0m\u001b[1;33m)\u001b[0m\u001b[1;33m\u001b[0m\u001b[0m\n\u001b[0m\u001b[0;32m     11\u001b[0m \u001b[1;33m\u001b[0m\u001b[0m\n\u001b[0;32m     12\u001b[0m \u001b[1;32mfor\u001b[0m \u001b[0mimg_te\u001b[0m \u001b[1;32min\u001b[0m \u001b[0mtest\u001b[0m\u001b[1;33m:\u001b[0m\u001b[1;33m\u001b[0m\u001b[0m\n",
      "\u001b[1;31mAttributeError\u001b[0m: 'NoneType' object has no attribute 'forward'"
     ]
    }
   ],
   "source": [
    "## select an intermediate layer\n",
    "layer_name = 'conv2'\n",
    "# how to extract latent feature\n",
    "# how to extract the corresponding latent feature of all stimuli???\n",
    "\n",
    "latent_feature_tr = []\n",
    "latent_feature_te = []\n",
    "for img_tr in train:\n",
    "    latent_feature_tr.append(dnn_model.forward(img_tr, layers=[layer_name]))\n",
    "        \n",
    "for img_te in test:\n",
    "    latent_feature_te.append(dnn_model.extract(img_te, layers=[layer_name]))\n",
    "#latent_feature = cp.array(latent_feature[layer_name].data)\n",
    "\n",
    "# lf_ train: latent_feature of training set, image of training set\n",
    "# lf_test: latent_feature of training set, image of training set"
   ]
  },
  {
   "cell_type": "code",
   "execution_count": 66,
   "metadata": {},
   "outputs": [],
   "source": [
    "## invert dnn\n",
    "# input: latent_feature\n",
    "# output: image/stimuli 28*28\n",
    "\n",
    "# should we use adversarial neural networks??? following is only generator part\n",
    "\n",
    "class invert_DNN(chainer.Chain):\n",
    "    def __init__(self):\n",
    "        super(invert_DNN,self).__init__()\n",
    "        with self.init_scope():\n",
    "            self.conv1 = L.Deconvolution2D(None,512,ksize=4,stride=1)\n",
    "            self.conv2 = L.Deconvolution2D(None,256,ksize=3)\n",
    "            self.conv3 = L.Deconvolution2D(None,128)\n",
    "            self.conv4 = L.Deconvolution2D(None,64)\n",
    "            self.conv5 = L.Deconvolution2D(None,1,ksize=4,stride=2,pad=1)\n",
    "    def __call__(self,x):\n",
    "        h1 = F.relu(self.conv1(x))\n",
    "        h2 = F.relu(self.conv2(h1))\n",
    "        h3 = F.relu(self.conv3(h2))\n",
    "        h4 = F.relu(self.conv4(h3))\n",
    "        return F.relu(self.conv5(h4))"
   ]
  },
  {
   "cell_type": "code",
   "execution_count": 67,
   "metadata": {},
   "outputs": [
    {
     "ename": "NameError",
     "evalue": "name 'lf_train' is not defined",
     "output_type": "error",
     "traceback": [
      "\u001b[1;31m---------------------------------------------------------------------------\u001b[0m",
      "\u001b[1;31mNameError\u001b[0m                                 Traceback (most recent call last)",
      "\u001b[1;32m<ipython-input-67-17bfcf053ae2>\u001b[0m in \u001b[0;36m<module>\u001b[1;34m()\u001b[0m\n\u001b[0;32m      1\u001b[0m \u001b[1;31m# traning of the new DNN\u001b[0m\u001b[1;33m\u001b[0m\u001b[1;33m\u001b[0m\u001b[0m\n\u001b[1;32m----> 2\u001b[1;33m \u001b[0minv_train_iter\u001b[0m \u001b[1;33m=\u001b[0m \u001b[0miterators\u001b[0m\u001b[1;33m.\u001b[0m\u001b[0mSerialIterator\u001b[0m\u001b[1;33m(\u001b[0m\u001b[0mlf_train\u001b[0m\u001b[1;33m,\u001b[0m\u001b[0mbatchsize\u001b[0m\u001b[1;33m)\u001b[0m\u001b[1;33m\u001b[0m\u001b[0m\n\u001b[0m\u001b[0;32m      3\u001b[0m \u001b[0minv_test_iter\u001b[0m \u001b[1;33m=\u001b[0m \u001b[0miterators\u001b[0m\u001b[1;33m.\u001b[0m\u001b[0mSerialIterator\u001b[0m\u001b[1;33m(\u001b[0m\u001b[0mlf_test\u001b[0m\u001b[1;33m,\u001b[0m\u001b[0mbatchsize\u001b[0m\u001b[1;33m,\u001b[0m\u001b[0mrepeat\u001b[0m \u001b[1;33m=\u001b[0m \u001b[1;32mFalse\u001b[0m\u001b[1;33m,\u001b[0m \u001b[0mshuffle\u001b[0m\u001b[1;33m=\u001b[0m\u001b[1;32mFalse\u001b[0m\u001b[1;33m)\u001b[0m\u001b[1;33m\u001b[0m\u001b[0m\n\u001b[0;32m      4\u001b[0m \u001b[1;33m\u001b[0m\u001b[0m\n\u001b[0;32m      5\u001b[0m \u001b[0minv_model\u001b[0m \u001b[1;33m=\u001b[0m \u001b[0minvert_DNN\u001b[0m\u001b[1;33m(\u001b[0m\u001b[1;33m)\u001b[0m\u001b[1;33m\u001b[0m\u001b[0m\n",
      "\u001b[1;31mNameError\u001b[0m: name 'lf_train' is not defined"
     ]
    }
   ],
   "source": [
    "# traning of the new DNN\n",
    "inv_train_iter = iterators.SerialIterator(lf_train,batchsize)\n",
    "inv_test_iter = iterators.SerialIterator(lf_test,batchsize,repeat = False, shuffle=False)\n",
    "\n",
    "inv_model = invert_DNN()\n",
    "inv_optimizer = optimizers.Adam()\n",
    "inv_optimizer.setup(inv_model)\n",
    "\n",
    "# loss function: softmax_cross_entropy()\n",
    "while inv_train_iter.epoch < max_epoch:\n",
    "    # iteration of the training loop\n",
    "    inv_train_batch = inv_train_iter.next()\n",
    "    latent_feature__train, stimuli_train = concat_examples(inv_train_batch,gpu_id)\n",
    "    \n",
    "    inv_prediction_train = inv_model(latent_feature_train)\n",
    "    \n",
    "    loss = F.softmax_cross_entropy(inv_prediction_train,stimuli_train)\n",
    "    \n",
    "    inv_model.cleargrads()\n",
    "    loos.backward()\n",
    "    \n",
    "    inv_optimizer.update()\n",
    "    \n",
    "    # check the validation accuracy of predictions after every epoch\n",
    "    if inv_train_iter.is_new_epoch:\n",
    "        # show the training loss\n",
    "        print('epoch:{:02d} inv_train_loss:{:.04f}'.format(inv_train_iter.epoch,float(to_cpu(loss.data))),end='')\n",
    "        \n",
    "        inv_test_losses = []\n",
    "        inv_test_accuracies = []\n",
    "        while True:\n",
    "            inv_test_batch = inv_test_iter.next()\n",
    "            latent_feature_test,stimuli_test = concat_examples(inv_test_batch,gpu_id)\n",
    "            inv_prediction_test = inv_model(latent_feature_test)\n",
    "            inv_loss_test = F.softmax_cross_entropy(inv_prediction_test,stimuli_test)\n",
    "            inv_test_losses.append(to_cpu(loss_test.data))\n",
    "            \n",
    "            accuracy = F.accuracy(prediction_test,target_test)\n",
    "            accuracy.to_cpu()\n",
    "            inv_test_accuracies.append(accuracy.data)\n",
    "            \n",
    "            if inv_test_iter.is_new_epoch:\n",
    "                inv_test_iter.epoch=0\n",
    "                inv_test_iter.current_position=0\n",
    "                inv_test_iter.is_new_epoch=False\n",
    "                inv_test_iter._pushed_position = None\n",
    "                break\n",
    "                \n",
    "        print('inv_Val_loss:{:.04df} inv_val_accuracy:{:.04f}'.format(\n",
    "            np.mean(inv_test_losses),np.mean(inv_test_accuracies)))\n",
    "        \n",
    "        \n",
    "# save the model\n",
    "serializers.save_npz('inv_DNN_MNIST_model',inv_model)        \n",
    "        \n",
    "        "
   ]
  },
  {
   "cell_type": "code",
   "execution_count": null,
   "metadata": {},
   "outputs": [],
   "source": [
    "# doing task 3 again"
   ]
  }
 ],
 "metadata": {
  "colab": {
   "name": "assignment_5.ipynb",
   "provenance": [],
   "version": "0.3.2"
  },
  "kernelspec": {
   "display_name": "Python 3",
   "language": "python",
   "name": "python3"
  },
  "language_info": {
   "codemirror_mode": {
    "name": "ipython",
    "version": 3
   },
   "file_extension": ".py",
   "mimetype": "text/x-python",
   "name": "python",
   "nbconvert_exporter": "python",
   "pygments_lexer": "ipython3",
   "version": "3.5.2"
  }
 },
 "nbformat": 4,
 "nbformat_minor": 2
}
